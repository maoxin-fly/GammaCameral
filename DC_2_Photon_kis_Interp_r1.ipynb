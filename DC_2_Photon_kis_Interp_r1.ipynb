{
 "cells": [
  {
   "cell_type": "code",
   "execution_count": 27,
   "metadata": {},
   "outputs": [
    {
     "name": "stdout",
     "output_type": "stream",
     "text": [
      "(23, 23, 23, 72)\n"
     ]
    }
   ],
   "source": [
    "#===============================================================\n",
    "# Interpolation kis into 200*200*200*72\n",
    "# Calculate the mean_PhotonSim_Pars_mu\n",
    "#===============================================================\n",
    "import numpy as np\n",
    "from scipy.interpolate import griddata\n",
    "import time\n",
    "import matplotlib.pyplot as plt\n",
    "%matplotlib inline\n",
    "\n",
    "#Import PhotonSim Results\n",
    "#===========================================================================\n",
    "data_Whole_Detector_Weight = np.load('data/Results_Photon/data_Whole_Detector_Weight.npy')\n",
    "data_Whole_Detector_kis = np.load('data/Results_Photon/data_Whole_Detector_kis.npy')\n",
    "data_Whole_Detector_Weight.shape = 23,23,23,72\n",
    "data_Whole_Detector_kis.shape =23,23,23,72\n",
    "print(data_Whole_Detector_kis.shape)\n"
   ]
  },
  {
   "cell_type": "code",
   "execution_count": 43,
   "metadata": {},
   "outputs": [
    {
     "name": "stdout",
     "output_type": "stream",
     "text": [
      "(12167, 3)\n",
      "(3, 200, 200, 200)\n"
     ]
    },
    {
     "data": {
      "text/html": [
       "<div>\n",
       "<style scoped>\n",
       "    .dataframe tbody tr th:only-of-type {\n",
       "        vertical-align: middle;\n",
       "    }\n",
       "\n",
       "    .dataframe tbody tr th {\n",
       "        vertical-align: top;\n",
       "    }\n",
       "\n",
       "    .dataframe thead th {\n",
       "        text-align: right;\n",
       "    }\n",
       "</style>\n",
       "<table border=\"1\" class=\"dataframe\">\n",
       "  <thead>\n",
       "    <tr style=\"text-align: right;\">\n",
       "      <th></th>\n",
       "      <th>z</th>\n",
       "      <th>y</th>\n",
       "      <th>x</th>\n",
       "    </tr>\n",
       "  </thead>\n",
       "  <tbody>\n",
       "    <tr>\n",
       "      <th>0</th>\n",
       "      <td>-9.95</td>\n",
       "      <td>-9.95</td>\n",
       "      <td>-9.95</td>\n",
       "    </tr>\n",
       "    <tr>\n",
       "      <th>1</th>\n",
       "      <td>-9.95</td>\n",
       "      <td>-9.95</td>\n",
       "      <td>-9.85</td>\n",
       "    </tr>\n",
       "    <tr>\n",
       "      <th>2</th>\n",
       "      <td>-9.95</td>\n",
       "      <td>-9.95</td>\n",
       "      <td>-9.75</td>\n",
       "    </tr>\n",
       "    <tr>\n",
       "      <th>3</th>\n",
       "      <td>-9.95</td>\n",
       "      <td>-9.95</td>\n",
       "      <td>-9.65</td>\n",
       "    </tr>\n",
       "    <tr>\n",
       "      <th>4</th>\n",
       "      <td>-9.95</td>\n",
       "      <td>-9.95</td>\n",
       "      <td>-9.55</td>\n",
       "    </tr>\n",
       "    <tr>\n",
       "      <th>5</th>\n",
       "      <td>-9.95</td>\n",
       "      <td>-9.95</td>\n",
       "      <td>-9.45</td>\n",
       "    </tr>\n",
       "    <tr>\n",
       "      <th>6</th>\n",
       "      <td>-9.95</td>\n",
       "      <td>-9.95</td>\n",
       "      <td>-9.35</td>\n",
       "    </tr>\n",
       "    <tr>\n",
       "      <th>7</th>\n",
       "      <td>-9.95</td>\n",
       "      <td>-9.95</td>\n",
       "      <td>-9.25</td>\n",
       "    </tr>\n",
       "  </tbody>\n",
       "</table>\n",
       "</div>"
      ],
      "text/plain": [
       "      z     y     x\n",
       "0 -9.95 -9.95 -9.95\n",
       "1 -9.95 -9.95 -9.85\n",
       "2 -9.95 -9.95 -9.75\n",
       "3 -9.95 -9.95 -9.65\n",
       "4 -9.95 -9.95 -9.55\n",
       "5 -9.95 -9.95 -9.45\n",
       "6 -9.95 -9.95 -9.35\n",
       "7 -9.95 -9.95 -9.25"
      ]
     },
     "execution_count": 43,
     "metadata": {},
     "output_type": "execute_result"
    }
   ],
   "source": [
    "# Preparing Interpolation\n",
    "#===========================================================================\n",
    "array1 = np.array([-9.95,-9.5])\n",
    "array2 = np.arange(-9,10,1)\n",
    "array3 = np.array([9.5,9.95])\n",
    "array_Sum = np.concatenate((array1,array2,array3),axis = 0)\n",
    "x = array_Sum.copy()\n",
    "y = array_Sum.copy()\n",
    "z = array_Sum.copy()\n",
    "points = np.array(np.meshgrid(x,y,z)) #Original PhotonSim grid\n",
    "points.shape = 3,23*23*23\n",
    "points = points.T    #I*3            # I * [z,y,x]\n",
    "print(points.shape)\n",
    "\n",
    "points1 = np.mgrid[-9.95:9.95:200j,-9.95:9.95:200j,-9.95:9.95:200j] #New grid\n",
    "print(points1.shape)\n",
    "points1.shape = 3,200*200*200\n",
    "points1 = points1.T                   # I * [z,y,x]\n",
    "\n",
    "signal = np.zeros(shape = (200*200*200,72),dtype = float)  #Interpolation results\n",
    "# #Turn into DataFrame\n",
    "df = pd.DataFrame(points1)\n",
    "df.columns = ['z','y','x']\n",
    "df.iloc[:8]"
   ]
  },
  {
   "cell_type": "code",
   "execution_count": 7,
   "metadata": {},
   "outputs": [
    {
     "name": "stdout",
     "output_type": "stream",
     "text": [
      "Starting Interpolating..........\n",
      "0 18.668113946914673 s (8000000,)\n",
      "1 26.306828022003174 s (8000000,)\n",
      "2 20.902860403060913 s (8000000,)\n",
      "3 23.96881079673767 s (8000000,)\n",
      "4 16.92878532409668 s (8000000,)\n",
      "5 17.124897718429565 s (8000000,)\n",
      "6 17.090205669403076 s (8000000,)\n",
      "7 17.605613708496094 s (8000000,)\n",
      "8 16.643941402435303 s (8000000,)\n",
      "9 17.317739963531494 s (8000000,)\n",
      "10 16.964657306671143 s (8000000,)\n",
      "11 16.842194080352783 s (8000000,)\n",
      "12 16.86857318878174 s (8000000,)\n",
      "13 16.778165102005005 s (8000000,)\n",
      "14 16.677464723587036 s (8000000,)\n",
      "15 16.806631565093994 s (8000000,)\n",
      "16 17.399847984313965 s (8000000,)\n",
      "17 17.06436276435852 s (8000000,)\n",
      "18 17.09633708000183 s (8000000,)\n",
      "19 16.87810182571411 s (8000000,)\n",
      "20 16.452054500579834 s (8000000,)\n",
      "21 17.088277578353882 s (8000000,)\n",
      "22 17.103314876556396 s (8000000,)\n",
      "23 17.00649619102478 s (8000000,)\n",
      "24 16.76215696334839 s (8000000,)\n",
      "25 17.25294589996338 s (8000000,)\n",
      "26 17.203956127166748 s (8000000,)\n",
      "27 16.908860206604004 s (8000000,)\n",
      "28 16.90182137489319 s (8000000,)\n",
      "29 16.77017092704773 s (8000000,)\n",
      "30 17.31933832168579 s (8000000,)\n",
      "31 16.89088225364685 s (8000000,)\n",
      "32 16.969631910324097 s (8000000,)\n",
      "33 17.612446784973145 s (8000000,)\n",
      "34 17.017498254776 s (8000000,)\n",
      "35 16.724409818649292 s (8000000,)\n",
      "36 18.907882928848267 s (8000000,)\n",
      "37 19.956358671188354 s (8000000,)\n",
      "38 19.5680091381073 s (8000000,)\n",
      "39 19.540005922317505 s (8000000,)\n",
      "40 19.196040391921997 s (8000000,)\n",
      "41 18.967973947525024 s (8000000,)\n",
      "42 19.012006282806396 s (8000000,)\n",
      "43 19.424043893814087 s (8000000,)\n",
      "44 20.664016008377075 s (8000000,)\n",
      "45 19.5519802570343 s (8000000,)\n",
      "46 19.3048095703125 s (8000000,)\n",
      "47 19.2000093460083 s (8000000,)\n",
      "48 20.700034141540527 s (8000000,)\n",
      "49 19.701053380966187 s (8000000,)\n",
      "50 19.039998531341553 s (8000000,)\n",
      "51 26.087997913360596 s (8000000,)\n",
      "52 19.48800826072693 s (8000000,)\n",
      "53 19.260016441345215 s (8000000,)\n",
      "54 18.72003412246704 s (8000000,)\n",
      "55 18.923972606658936 s (8000000,)\n",
      "56 19.020007610321045 s (8000000,)\n",
      "57 18.892008304595947 s (8000000,)\n",
      "58 18.948005199432373 s (8000000,)\n",
      "59 19.024006843566895 s (8000000,)\n",
      "60 19.50400972366333 s (8000000,)\n",
      "61 19.28800344467163 s (8000000,)\n",
      "62 18.944007396697998 s (8000000,)\n",
      "63 19.121878623962402 s (8000000,)\n",
      "64 19.10392141342163 s (8000000,)\n",
      "65 20.18403458595276 s (8000000,)\n",
      "66 19.920010089874268 s (8000000,)\n",
      "67 21.323978424072266 s (8000000,)\n",
      "68 24.27200722694397 s (8000000,)\n",
      "69 24.308011054992676 s (8000000,)\n",
      "70 24.18401002883911 s (8000000,)\n",
      "71 24.140008211135864 s (8000000,)\n",
      "Time Exhausted: 1361.8881843090057 s\n"
     ]
    }
   ],
   "source": [
    "# Interpolating\n",
    "#===========================================================================\n",
    "print('Starting Interpolating..........')\n",
    "\n",
    "t_initial = time.time()\n",
    "for s in np.arange(72):\n",
    "    values = data_Whole_Detector_kis[:,:,:,s].reshape(23*23*23)\n",
    "    t1 = time.time()\n",
    "    signal_tem = griddata(points,values,points1,method = 'nearest')\n",
    "    signal[:,s] = signal_tem\n",
    "    t2 = time.time()\n",
    "    print(s,t2 -t1,'s',signal_tem.shape)\n",
    "t_end = time.time()\n",
    "\n",
    "#Saving Interpolation Results\n",
    "np.save('data/Results_Photon/data_Whole_Detector_kis_Interp1.npy',signal)\n",
    "signal.tofile('data/Results_Photon/data_Whole_Detector_kis_Interp1.npy',format = \"%f\")\n",
    "print('Time Exhausted:',t_end - t_initial,'s')"
   ]
  },
  {
   "cell_type": "code",
   "execution_count": 72,
   "metadata": {},
   "outputs": [
    {
     "data": {
      "text/plain": [
       "(8000000, 72)"
      ]
     },
     "execution_count": 72,
     "metadata": {},
     "output_type": "execute_result"
    }
   ],
   "source": [
    "# Calculate mean_kis\n",
    "data_Whole_Detector_kis_Interp = np.load('data/Results_Photon/data_Whole_Detector_kis_Interp.npy')\n",
    "data_Whole_Detector_kis_Interp.shape"
   ]
  },
  {
   "cell_type": "code",
   "execution_count": 47,
   "metadata": {},
   "outputs": [
    {
     "data": {
      "text/plain": [
       "array([[-5.,  5., -5.,  5., -5.,  5., -5.,  5.],\n",
       "       [-5., -5.,  5.,  5., -5., -5.,  5.,  5.],\n",
       "       [-5., -5., -5., -5.,  5.,  5.,  5.,  5.]])"
      ]
     },
     "execution_count": 47,
     "metadata": {},
     "output_type": "execute_result"
    }
   ],
   "source": [
    "#Calculate Cell size\n",
    "def Cal_Crastal_Sites(PositionNumsXYZ):\n",
    "    CellNums = PositionNumsXYZ[0]*PositionNumsXYZ[1]*PositionNumsXYZ[2] #(x,y,z)\n",
    "    Crastal_SizeXYZ = np.array([20,20,20]) # mm  #(x,y,z)\n",
    "\n",
    "    index = np.arange(CellNums) #Numpy: shape[3] -> shape[2] ->shape[1] -> shape[0]\n",
    "    index.shape = (PositionNumsXYZ[2],PositionNumsXYZ[1],PositionNumsXYZ[0]) # (NumZ,NumY,NumX) eg (2,6,6)\n",
    "    X = np.zeros(shape = (CellNums),dtype = float)\n",
    "    Y = np.zeros(shape = (CellNums),dtype = float)\n",
    "    Z = np.zeros(shape = (CellNums),dtype = float)\n",
    "    for i in np.arange(CellNums):\n",
    "        index_i = np.array(np.where(index == i))\n",
    "        index_i.shape = (3,)\n",
    "        #print(index_i)\n",
    "        X[i] = index_i[2] * (Crastal_SizeXYZ[0] / PositionNumsXYZ[0]) - Crastal_SizeXYZ[0] / 2 + Crastal_SizeXYZ[0] / (2*PositionNumsXYZ[0])\n",
    "        Y[i] = index_i[1] * (Crastal_SizeXYZ[1] / PositionNumsXYZ[1]) - Crastal_SizeXYZ[1] / 2 + Crastal_SizeXYZ[1] / (2*PositionNumsXYZ[1])\n",
    "        Z[i] = index_i[0] * (Crastal_SizeXYZ[2] / PositionNumsXYZ[2]) - Crastal_SizeXYZ[2] / 2 + Crastal_SizeXYZ[2] / (2*PositionNumsXYZ[2])\n",
    "    return X,Y,Z\n",
    "\n",
    "PositionNumsXYZ = np.array([2,2,2])\n",
    "Crastal_X,Crastal_Y,Crastal_Z = Cal_Crastal_Sites(PositionNumsXYZ)\n",
    "Coor_Cells = np.array([Crastal_X,Crastal_Y,Crastal_Z])\n",
    "Coor_Cells.shape\n",
    "Coor_Cells"
   ]
  },
  {
   "cell_type": "code",
   "execution_count": 66,
   "metadata": {},
   "outputs": [],
   "source": [
    "#Counting index\n",
    "Coor_Cells_Down = Coor_Cells - 5\n",
    "Coor_Cells_Up = Coor_Cells + 5\n",
    "Coor_Cells_Down,Coor_Cells_Up\n",
    "index = []\n",
    "for i in np.arange(Coor_Cells.shape[1]):\n",
    "    df_x = df[(df.x >= Coor_Cells_Down[0,i]) & (df.x < Coor_Cells_Up[0,i])]\n",
    "    df_xy = df_x[(df_x.y >= Coor_Cells_Down[1,i]) & (df_x.y < Coor_Cells_Up[1,i])]\n",
    "    df_xyz = df_xy[(df_xy.z >= Coor_Cells_Down[2,i]) & (df_xy.z < Coor_Cells_Up[2,i])]\n",
    "    index.append(np.array(df_xyz.index))\n"
   ]
  },
  {
   "cell_type": "code",
   "execution_count": 70,
   "metadata": {},
   "outputs": [],
   "source": [
    "# Check\n",
    "df_1 = pd.DataFrame(np.array(index).reshape(8000000))\n",
    "df_1.columns = ['index']\n",
    "# pd.value_counts(df_1['index'], sort = True).sort_index()"
   ]
  },
  {
   "cell_type": "code",
   "execution_count": 73,
   "metadata": {},
   "outputs": [
    {
     "name": "stdout",
     "output_type": "stream",
     "text": [
      "0 (72,)\n",
      "1 (72,)\n",
      "2 (72,)\n",
      "3 (72,)\n",
      "4 (72,)\n",
      "5 (72,)\n",
      "6 (72,)\n",
      "7 (72,)\n"
     ]
    },
    {
     "data": {
      "text/plain": [
       "(8, 72)"
      ]
     },
     "execution_count": 73,
     "metadata": {},
     "output_type": "execute_result"
    }
   ],
   "source": [
    "#==================================\n",
    "# Calculate mean kis and wis \n",
    "#==================================\n",
    "mean_PhotonSim_Pars_mu = np.zeros(shape = (8,72),dtype = float)\n",
    "for i in np.arange(8):\n",
    "    mean_kis = data_Whole_Detector_kis_Interp[index[i],:].mean(axis = 0) \n",
    "    print(i,mean_kis.shape)\n",
    "    mean_PhotonSim_Pars_mu[i,:] = mean_kis / mean_kis.sum(axis = 0)\n",
    "mean_PhotonSim_Pars_mu.shape"
   ]
  },
  {
   "cell_type": "code",
   "execution_count": 74,
   "metadata": {},
   "outputs": [],
   "source": [
    "# Saving file\n",
    "np.save('data/Result_Gamma/mean_PhotonSim_Pars_mu.npy',mean_PhotonSim_Pars_mu)"
   ]
  },
  {
   "cell_type": "code",
   "execution_count": 78,
   "metadata": {},
   "outputs": [
    {
     "data": {
      "text/plain": [
       "[<matplotlib.lines.Line2D at 0x1ac47797d68>]"
      ]
     },
     "execution_count": 78,
     "metadata": {},
     "output_type": "execute_result"
    },
    {
     "data": {
      "image/png": "[encoded data removed]",
      "text/plain": [
       "<Figure size 432x288 with 1 Axes>"
      ]
     },
     "metadata": {
      "needs_background": "light"
     },
     "output_type": "display_data"
    }
   ],
   "source": [
    "# Check\n",
    "plt.plot(np.arange(72),mean_PhotonSim_Pars_mu[7,:])"
   ]
  },
  {
   "cell_type": "code",
   "execution_count": 44,
   "metadata": {},
   "outputs": [],
   "source": []
  },
  {
   "cell_type": "code",
   "execution_count": null,
   "metadata": {},
   "outputs": [],
   "source": []
  },
  {
   "cell_type": "code",
   "execution_count": null,
   "metadata": {},
   "outputs": [],
   "source": []
  },
  {
   "cell_type": "code",
   "execution_count": null,
   "metadata": {},
   "outputs": [],
   "source": []
  },
  {
   "cell_type": "code",
   "execution_count": null,
   "metadata": {},
   "outputs": [],
   "source": []
  },
  {
   "cell_type": "code",
   "execution_count": null,
   "metadata": {},
   "outputs": [],
   "source": []
  },
  {
   "cell_type": "code",
   "execution_count": 18,
   "metadata": {},
   "outputs": [
    {
     "data": {
      "text/plain": [
       "(10,)"
      ]
     },
     "execution_count": 18,
     "metadata": {},
     "output_type": "execute_result"
    }
   ],
   "source": [
    "point_grid =np.array([[0.0,0.0,0.0],[0.4,0.4,0.4],[0.8,0.8,0.8],[1.0,1.0,1.0]])#网格点坐标\n",
    "point_grid.shape\n",
    "def func(x, y, z):\n",
    "    return x*(1-x)*np.cos(4*np.pi*x) * (np.sin(4*np.pi*y**2)**2)*z\n",
    "\n",
    "points = np.random.rand(10, 3)#实际点坐标\n",
    "values = func(points[:,0], points[:,1],points[:,2])#实际点的值\n",
    "values.shape"
   ]
  },
  {
   "cell_type": "code",
   "execution_count": 28,
   "metadata": {},
   "outputs": [
    {
     "data": {
      "text/plain": [
       "[<matplotlib.lines.Line2D at 0x1ac7611d0f0>]"
      ]
     },
     "execution_count": 28,
     "metadata": {},
     "output_type": "execute_result"
    },
    {
     "data": {
      "image/png": "[encoded data removed]",
      "text/plain": [
       "<Figure size 432x288 with 1 Axes>"
      ]
     },
     "metadata": {
      "needs_background": "light"
     },
     "output_type": "display_data"
    }
   ],
   "source": [
    "#check\n",
    "data_Whole_Detector_kis.shape = 23*23*23,72\n",
    "plt.plot(np.arange(72),data_Whole_Detector_kis[23*23*23 - 1,:])"
   ]
  },
  {
   "cell_type": "code",
   "execution_count": 76,
   "metadata": {},
   "outputs": [
    {
     "data": {
      "text/plain": [
       "(23, 23, 23, 72)"
      ]
     },
     "execution_count": 76,
     "metadata": {},
     "output_type": "execute_result"
    }
   ],
   "source": [
    "data_Whole_Detector_kis.shape"
   ]
  },
  {
   "cell_type": "code",
   "execution_count": 25,
   "metadata": {},
   "outputs": [
    {
     "data": {
      "text/plain": [
       "[<matplotlib.lines.Line2D at 0x22aa64f0d30>]"
      ]
     },
     "execution_count": 25,
     "metadata": {},
     "output_type": "execute_result"
    },
    {
     "data": {
      "image/png": "[encoded data removed]",
      "text/plain": [
       "<Figure size 432x288 with 1 Axes>"
      ]
     },
     "metadata": {
      "needs_background": "light"
     },
     "output_type": "display_data"
    }
   ],
   "source": [
    "# Check\n",
    "plt.plot(np.arange(72),data_Whole_Detector_kis_Interp[200*200*200 -1,:])\n",
    "plt.plot(np.arange(72),data_Whole_Detector_kis[22,22,22,:])"
   ]
  },
  {
   "cell_type": "code",
   "execution_count": 51,
   "metadata": {},
   "outputs": [
    {
     "data": {
      "text/html": [
       "<div>\n",
       "<style scoped>\n",
       "    .dataframe tbody tr th:only-of-type {\n",
       "        vertical-align: middle;\n",
       "    }\n",
       "\n",
       "    .dataframe tbody tr th {\n",
       "        vertical-align: top;\n",
       "    }\n",
       "\n",
       "    .dataframe thead th {\n",
       "        text-align: right;\n",
       "    }\n",
       "</style>\n",
       "<table border=\"1\" class=\"dataframe\">\n",
       "  <thead>\n",
       "    <tr style=\"text-align: right;\">\n",
       "      <th></th>\n",
       "      <th>z</th>\n",
       "      <th>y</th>\n",
       "      <th>x</th>\n",
       "    </tr>\n",
       "  </thead>\n",
       "  <tbody>\n",
       "    <tr>\n",
       "      <th>0</th>\n",
       "      <td>-9.95</td>\n",
       "      <td>-9.95</td>\n",
       "      <td>-9.95</td>\n",
       "    </tr>\n",
       "    <tr>\n",
       "      <th>1</th>\n",
       "      <td>-9.95</td>\n",
       "      <td>-9.95</td>\n",
       "      <td>-9.85</td>\n",
       "    </tr>\n",
       "    <tr>\n",
       "      <th>2</th>\n",
       "      <td>-9.95</td>\n",
       "      <td>-9.95</td>\n",
       "      <td>-9.75</td>\n",
       "    </tr>\n",
       "    <tr>\n",
       "      <th>3</th>\n",
       "      <td>-9.95</td>\n",
       "      <td>-9.95</td>\n",
       "      <td>-9.65</td>\n",
       "    </tr>\n",
       "    <tr>\n",
       "      <th>4</th>\n",
       "      <td>-9.95</td>\n",
       "      <td>-9.95</td>\n",
       "      <td>-9.55</td>\n",
       "    </tr>\n",
       "    <tr>\n",
       "      <th>5</th>\n",
       "      <td>-9.95</td>\n",
       "      <td>-9.95</td>\n",
       "      <td>-9.45</td>\n",
       "    </tr>\n",
       "    <tr>\n",
       "      <th>6</th>\n",
       "      <td>-9.95</td>\n",
       "      <td>-9.95</td>\n",
       "      <td>-9.35</td>\n",
       "    </tr>\n",
       "    <tr>\n",
       "      <th>7</th>\n",
       "      <td>-9.95</td>\n",
       "      <td>-9.95</td>\n",
       "      <td>-9.25</td>\n",
       "    </tr>\n",
       "    <tr>\n",
       "      <th>8</th>\n",
       "      <td>-9.95</td>\n",
       "      <td>-9.95</td>\n",
       "      <td>-9.15</td>\n",
       "    </tr>\n",
       "  </tbody>\n",
       "</table>\n",
       "</div>"
      ],
      "text/plain": [
       "      z     y     x\n",
       "0 -9.95 -9.95 -9.95\n",
       "1 -9.95 -9.95 -9.85\n",
       "2 -9.95 -9.95 -9.75\n",
       "3 -9.95 -9.95 -9.65\n",
       "4 -9.95 -9.95 -9.55\n",
       "5 -9.95 -9.95 -9.45\n",
       "6 -9.95 -9.95 -9.35\n",
       "7 -9.95 -9.95 -9.25\n",
       "8 -9.95 -9.95 -9.15"
      ]
     },
     "execution_count": 51,
     "metadata": {},
     "output_type": "execute_result"
    }
   ],
   "source": [
    "df.iloc[:9]"
   ]
  }
 ],
 "metadata": {
  "kernelspec": {
   "display_name": "Python 3",
   "language": "python",
   "name": "python3"
  },
  "language_info": {
   "codemirror_mode": {
    "name": "ipython",
    "version": 3
   },
   "file_extension": ".py",
   "mimetype": "text/x-python",
   "name": "python",
   "nbconvert_exporter": "python",
   "pygments_lexer": "ipython3",
   "version": "3.7.3"
  }
 },
 "nbformat": 4,
 "nbformat_minor": 2
}
