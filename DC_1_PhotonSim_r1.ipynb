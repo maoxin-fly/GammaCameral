{
 "cells": [
  {
   "cell_type": "code",
   "execution_count": 1,
   "metadata": {},
   "outputs": [
    {
     "name": "stdout",
     "output_type": "stream",
     "text": [
      "============Check====================\n",
      "Merging File:\n",
      "1 2 3 4 5 6 7 8 9 10 11 12 13 14 15 16 17 18 19 20 21 22 23 24 25 26 27 28 29 30 31 32 33 34 35 36 37 38 39 40 41 42 43 44 45 46 47 48 49 50 51 52 53 54 55 56 57 58 59 60 61 62 63 64 65 66 67 68 69 70 71 72 73 74 75 76 77 78 79 80 81 82 83 84 85 86 87 88 89 90 91 92 93 94 95 96 97 98 99 100 "
     ]
    }
   ],
   "source": [
    "#=====================================================\n",
    "#Combine all binary files\n",
    "#Calculate Normalized Photon Transport weight martrix\n",
    "#Turn 1/8 detector into 100% \n",
    "#=====================================================\n",
    "import os\n",
    "import struct\n",
    "import numpy as np\n",
    "\n",
    "# Read binary files\n",
    "#===========================================================================\n",
    "Xsize = 12\n",
    "Ysize = 12\n",
    "Zsize = 12\n",
    "SIPMsize = 6*6*2\n",
    "data_Sum = np.zeros(shape = Xsize*Ysize*Zsize*SIPMsize,dtype = float)\n",
    "emission_Sum = 0\n",
    "print(\"============Check====================\")\n",
    "print(\"Merging File:\")\n",
    "for fileNum in range(1,101):\n",
    "    filename = \"data/SimResult_B/data_2020{:.0f}\".format(fileNum)\n",
    "    f = open(file = filename,mode = 'rb')# Read in binary\n",
    "    size = os.path.getsize(filename)# Calculate bytes\n",
    "    data_array = np.zeros(shape = int(size/4),dtype = float)\n",
    "    for i in range(size):\n",
    "        data = f.read(4)# float = 4 bytes\n",
    "        if len(data) != 4:\n",
    "            break\n",
    "        else:\n",
    "            data_float = struct.unpack(\"f\",data)[0]# Turn binary to float\n",
    "            data_array[i] = round(data_float,1)# Approximate\n",
    "    print(fileNum,end = \" \")\n",
    "    f.close()\n",
    "    data_Sum += data_array[0:int(size/4)-1]\n",
    "    emission_Sum += data_array[int(size/4)-1] # for is"
   ]
  },
  {
   "cell_type": "code",
   "execution_count": 2,
   "metadata": {},
   "outputs": [
    {
     "name": "stdout",
     "output_type": "stream",
     "text": [
      " \n",
      "1314.717244 1000000.0\n",
      " \n",
      "============Check====================\n",
      "data_Sum1/8 shape: (12, 12, 12, 2, 6, 6)\n",
      "Whole detector shape: (23, 23, 23, 2, 6, 6)\n",
      "Emission_Sum: 1000000.0\n"
     ]
    }
   ],
   "source": [
    "# Turn 1/8 detector into 100% :kis  \n",
    "#===========================================================================\n",
    "data_Sum = data_Sum/(emission_Sum) # Normalize K_is\n",
    "print(\" \")\n",
    "print(data_Sum.sum(),emission_Sum)\n",
    "data_Sum.shape = Zsize,Ysize,Xsize,2,6,6  # 1/8 detector\n",
    "data_Whole_Detector = np.zeros(shape = (23,23,23,2,6,6),dtype = float)\n",
    "#SIPM and detector symmetry the same time\n",
    "for z in range(0,23):\n",
    "    for y in range(0,23):\n",
    "        for x in range(0,23):\n",
    "            # z <= 11\n",
    "            if x <= Xsize - 1 and y <= Ysize - 1 and z <= Zsize - 1:\n",
    "                data_Whole_Detector[z,y,x,:,:,:] = data_Sum[z,y,x,:,:,:]\n",
    "            elif x > Xsize - 1 and y <= Ysize - 1 and z <= Zsize - 1:\n",
    "                data_Whole_Detector[z,y,x,:,:,:] = data_Sum[z,y,22-x,:,:,5::-1]\n",
    "            elif x > Xsize - 1 and y > Ysize - 1 and z <= Zsize - 1:\n",
    "                data_Whole_Detector[z,y,x,:,:,:] = data_Sum[z,22-y,22-x,:,5::-1,5::-1]\n",
    "            elif x <= Xsize - 1 and y > Ysize - 1 and z <= Zsize - 1:\n",
    "                data_Whole_Detector[z,y,x,:,:,:] = data_Sum[z,22-y,x,:,5::-1,:]\n",
    "            # z >= 11\n",
    "            elif x <= Xsize - 1 and y <= Ysize - 1 and z > Zsize - 1:\n",
    "                data_Whole_Detector[z,y,x,:,:,:] = data_Sum[22-z,y,x,1::-1,:,:]\n",
    "            elif x > Xsize - 1 and y <= Ysize - 1 and z > Zsize - 1:\n",
    "                data_Whole_Detector[z,y,x,:,:,:] = data_Sum[22-z,y,22-x,1::-1,:,5::-1]\n",
    "            elif x > Xsize - 1 and y > Ysize - 1 and z > Zsize - 1:\n",
    "                data_Whole_Detector[z,y,x,:,:,:] = data_Sum[22-z,22-y,22-x,1::-1,5::-1,5::-1]\n",
    "            elif x <= Xsize - 1 and y > Ysize - 1 and z > Zsize - 1:\n",
    "                data_Whole_Detector[z,y,x,:,:,:] = data_Sum[22-z,22-y,x,1::-1,5::-1,:]\n",
    "print(\" \")\n",
    "print(\"============Check====================\")\n",
    "print(\"data_Sum1/8 shape:\",data_Sum.shape)\n",
    "print(\"Whole detector shape:\",data_Whole_Detector.shape)\n",
    "print(\"Emission_Sum:\",emission_Sum)"
   ]
  },
  {
   "cell_type": "code",
   "execution_count": 4,
   "metadata": {},
   "outputs": [
    {
     "name": "stdout",
     "output_type": "stream",
     "text": [
      "(23, 23, 23)\n"
     ]
    }
   ],
   "source": [
    "# Normalizing & Calculate W_is\n",
    "#===========================================================================\n",
    "Sum_bySIPM = data_Whole_Detector.sum(axis = 5).sum(axis = 4).sum(axis = 3)\n",
    "data_Whole_Detector_Weight = np.zeros(shape = (23,23,23,2,6,6),dtype = float)\n",
    "print(Sum_bySIPM.shape)\n",
    "for z in np.arange(23):\n",
    "    for y in np.arange(23):\n",
    "        for x in np.arange(23):\n",
    "            data_Whole_Detector_Weight[z,y,x,:] = data_Whole_Detector[z,y,x,:]/Sum_bySIPM[z,y,x]"
   ]
  },
  {
   "cell_type": "code",
   "execution_count": 5,
   "metadata": {},
   "outputs": [
    {
     "name": "stdout",
     "output_type": "stream",
     "text": [
      "Whole detector shape weight: (23, 23, 23, 2, 6, 6)\n",
      "Saving data_Whole_Detector_Weight as data_Whole_Detector_Weight.npy\n",
      "Saving data_Whole_Detector as data_Whole_Detector_kis.npy\n"
     ]
    }
   ],
   "source": [
    "# Saving file\n",
    "#===========================================================================\n",
    "np.save('data/Results_Photon/data_Whole_Detector_Weight.npy',data_Whole_Detector_Weight,fix_imports=True)\n",
    "np.save('data/Results_Photon/data_Whole_Detector_kis.npy',data_Whole_Detector)\n",
    "# data_Whole_Detector_Weight.tofile('data/Results_Photon/data_Whole_Detector_Weight.bin',format = \"%f\")\n",
    "# data_Whole_Detector.reshape(2*6*6*23*23*23).tofile('data/Results_Photon/data_Whole_Detector_kis.bin',format = \"%f\")\n",
    "\n",
    "print(\"Whole detector shape weight:\",data_Whole_Detector_Weight.shape)\n",
    "print(\"Saving data_Whole_Detector_Weight as data_Whole_Detector_Weight.npy\")\n",
    "print(\"Saving data_Whole_Detector as data_Whole_Detector_kis.npy\")"
   ]
  },
  {
   "cell_type": "code",
   "execution_count": null,
   "metadata": {},
   "outputs": [],
   "source": []
  }
 ],
 "metadata": {
  "kernelspec": {
   "display_name": "Python 3",
   "language": "python",
   "name": "python3"
  },
  "language_info": {
   "codemirror_mode": {
    "name": "ipython",
    "version": 3
   },
   "file_extension": ".py",
   "mimetype": "text/x-python",
   "name": "python",
   "nbconvert_exporter": "python",
   "pygments_lexer": "ipython3",
   "version": "3.7.3"
  }
 },
 "nbformat": 4,
 "nbformat_minor": 2
}
